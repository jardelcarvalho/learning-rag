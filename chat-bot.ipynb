{
 "cells": [
  {
   "cell_type": "code",
   "execution_count": 62,
   "id": "ecff5331",
   "metadata": {},
   "outputs": [],
   "source": [
    "import os\n",
    "from langchain import HuggingFaceHub, PromptTemplate, LLMChain"
   ]
  },
  {
   "cell_type": "code",
   "execution_count": 63,
   "id": "c98eb20f-3ba8-46a1-a6fc-223e304e9bd4",
   "metadata": {},
   "outputs": [],
   "source": [
    "def _load_api_token(file):\n",
    "    with open(file, 'r') as f:\n",
    "        key = f.read().replace(' ', '').replace('\\n', '').replace('\\t', '')\n",
    "    return key"
   ]
  },
  {
   "cell_type": "code",
   "execution_count": 64,
   "id": "7a735e90-2aae-4dd8-8e6c-87d422b9092b",
   "metadata": {},
   "outputs": [],
   "source": [
    "api_token = _load_api_token('./api_token.txt')"
   ]
  },
  {
   "cell_type": "code",
   "execution_count": 65,
   "id": "c1bac29e-59a4-422c-9051-6d6301f97a4c",
   "metadata": {},
   "outputs": [],
   "source": [
    "model_id = 'gpt2-medium'\n",
    "\n",
    "#Loading a conversational model\n",
    "conv_model = HuggingFaceHub(huggingfacehub_api_token=api_token, \n",
    "                            repo_id=model_id,\n",
    "                            model_kwargs={'temperature': .8, 'max_new_tokens': 200})"
   ]
  },
  {
   "cell_type": "code",
   "execution_count": 66,
   "id": "fcccaa67-99ee-45f4-9775-7a583442df1d",
   "metadata": {},
   "outputs": [],
   "source": [
    "template = '''You are a helpfull AI assistant that makes stories by completing the query provided by the user\n",
    "\n",
    "{query}\n",
    "'''\n",
    "\n",
    "prompt = PromptTemplate(template=template, input_variables=['query'])"
   ]
  },
  {
   "cell_type": "code",
   "execution_count": 68,
   "id": "5a818e2a-69d4-48e2-aca3-cf8df44f76ec",
   "metadata": {},
   "outputs": [],
   "source": [
    "conv_chain = LLMChain(llm=conv_model, prompt=prompt, verbose=True)"
   ]
  },
  {
   "cell_type": "code",
   "execution_count": 69,
   "id": "f25a6c4e-c28d-44c9-bd80-46c623e6c5bb",
   "metadata": {},
   "outputs": [
    {
     "name": "stdout",
     "output_type": "stream",
     "text": [
      "\n",
      "\n",
      "\u001b[1m> Entering new LLMChain chain...\u001b[0m\n",
      "Prompt after formatting:\n",
      "\u001b[32;1m\u001b[1;3mYou are a helpfull AI assistant that makes stories by completing the query provided by the user\n",
      "\n",
      "Once upon a time in 1947\n",
      "\u001b[0m\n",
      "\n",
      "\u001b[1m> Finished chain.\u001b[0m\n",
      "You are a helpfull AI assistant that makes stories by completing the query provided by the user\n",
      "\n",
      "Once upon a time in 1947\n",
      "\n",
      "Einstein knew that \"light is just a form of energy (energy is electromagnetic). There is no such thing as a constant or constant energy, only a constant wave and copy.\" Einstein was commenting on the question of how to analyze quantum mechanics. He used the equation of state to explain this energy.\n",
      "\n",
      "When light travels in a straight line from the center of the galaxy to the center of the Earth it is called a wave. When this wave moves, it creates a copy of itself that acts like a radio.\n",
      "\n",
      "In a world without electromagnetic waves it is still possible to have a radio wave but it would be a very feeble radio.\n",
      "\n",
      "Although Einstein's brainwave is a form of energy, he also saw that he could tell the difference between an oscillator (a type of light) and a wave. Waves even exist that correspond to physical laws.\n",
      "\n",
      "The human brain, however, cannot reflect such waves. This is a fundamental principle that has been used to\n"
     ]
    }
   ],
   "source": [
    "print(conv_chain.run('Once upon a time in 1947'))"
   ]
  }
 ],
 "metadata": {
  "kernelspec": {
   "display_name": "Python 3 (ipykernel)",
   "language": "python",
   "name": "python3"
  },
  "language_info": {
   "codemirror_mode": {
    "name": "ipython",
    "version": 3
   },
   "file_extension": ".py",
   "mimetype": "text/x-python",
   "name": "python",
   "nbconvert_exporter": "python",
   "pygments_lexer": "ipython3",
   "version": "3.10.9"
  }
 },
 "nbformat": 4,
 "nbformat_minor": 5
}
