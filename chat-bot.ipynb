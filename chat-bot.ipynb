{
 "cells": [
  {
   "cell_type": "code",
   "execution_count": 1,
   "id": "ecff5331",
   "metadata": {},
   "outputs": [],
   "source": [
    "from langchain.chains.llm import LLMChain\n",
    "from langchain.prompts.prompt import PromptTemplate\n",
    "from langchain_community.llms.huggingface_endpoint import HuggingFaceEndpoint\n",
    "from langchain_core.output_parsers import StrOutputParser"
   ]
  },
  {
   "cell_type": "code",
   "execution_count": 2,
   "id": "c98eb20f-3ba8-46a1-a6fc-223e304e9bd4",
   "metadata": {},
   "outputs": [],
   "source": [
    "def _load_api_token(file):\n",
    "    with open(file, 'r') as f:\n",
    "        key = f.read().replace(' ', '').replace('\\n', '').replace('\\t', '')\n",
    "    return key"
   ]
  },
  {
   "cell_type": "code",
   "execution_count": 3,
   "id": "7a735e90-2aae-4dd8-8e6c-87d422b9092b",
   "metadata": {},
   "outputs": [],
   "source": [
    "api_token = _load_api_token('./api_token.txt')"
   ]
  },
  {
   "cell_type": "code",
   "execution_count": 10,
   "id": "c1bac29e-59a4-422c-9051-6d6301f97a4c",
   "metadata": {},
   "outputs": [
    {
     "name": "stdout",
     "output_type": "stream",
     "text": [
      "The token has not been saved to the git credentials helper. Pass `add_to_git_credential=True` in this function directly or `--add-to-git-credential` if using via `huggingface-cli` if you want to set the git credential as well.\n",
      "Token is valid (permission: read).\n",
      "Your token has been saved to C:\\Users\\jfcar\\.cache\\huggingface\\token\n",
      "Login successful\n"
     ]
    }
   ],
   "source": [
    "model_id = 'gpt2-medium'\n",
    "\n",
    "#Loading a conversational model\n",
    "conv_model = HuggingFaceEndpoint(huggingfacehub_api_token=api_token, \n",
    "                                 repo_id=model_id,\n",
    "                                 temperature=.8,\n",
    "                                 max_new_tokens=200)"
   ]
  },
  {
   "cell_type": "code",
   "execution_count": 11,
   "id": "fcccaa67-99ee-45f4-9775-7a583442df1d",
   "metadata": {},
   "outputs": [],
   "source": [
    "template = '''You are a helpfull AI assistant that makes stories by completing the query provided by the user\n",
    "\n",
    "{query}\n",
    "'''\n",
    "\n",
    "prompt = PromptTemplate(template=template, input_variables=['query'])"
   ]
  },
  {
   "cell_type": "code",
   "execution_count": 12,
   "id": "5a818e2a-69d4-48e2-aca3-cf8df44f76ec",
   "metadata": {},
   "outputs": [],
   "source": [
    "# conv_chain = LLMChain(llm=conv_model, prompt=prompt, verbose=True)"
   ]
  },
  {
   "cell_type": "code",
   "execution_count": 13,
   "id": "2b8bf41b-8af0-4db9-844f-3f3fdc698b6b",
   "metadata": {},
   "outputs": [],
   "source": [
    "#The code above is deprecated\n",
    "#See how to run RunnableSequences in https://python.langchain.com/v0.2/docs/how_to/sequence/"
   ]
  },
  {
   "cell_type": "code",
   "execution_count": 14,
   "id": "18a778dd-242c-466c-9fbc-2a2d19462521",
   "metadata": {},
   "outputs": [],
   "source": [
    "conv_chain = prompt | conv_model | StrOutputParser()"
   ]
  },
  {
   "cell_type": "code",
   "execution_count": 15,
   "id": "f25a6c4e-c28d-44c9-bd80-46c623e6c5bb",
   "metadata": {},
   "outputs": [
    {
     "name": "stdout",
     "output_type": "stream",
     "text": [
      "\n",
      "Chen 'Ah-Mei' Chen was a professional model from Beijing and an American actress, the father of the famous \"Hong Kong Four\"\n",
      "\n",
      "As she worked on making images for magazines and films, Chen's life turned into a series of spas, hotels and gyms in between\n",
      "\n",
      "Chen was surrounded by a secret world that kept her busy in order to attract more clients\n",
      "\n",
      "Chen was trained to look like a real person in order to attract clients\n",
      "\n",
      "From 1942 to 1945, Chen became an assistant to the famous American actress Victoria McCarthy, with whom she had a very good relationship\n",
      "\n",
      "Chen's modeling career was a success, until the moment when she found out that she was the real Victoria McCarthy\n",
      "\n",
      "When Chen realized that she was the real person in order to attract more clients, she decided to become a reporter and started to work on real stories. She also started making films\n",
      "\n",
      "Chen didn't like working as an assistant anymore,\n"
     ]
    }
   ],
   "source": [
    "print(conv_chain.invoke({'query': 'Once upon a time in 1937'}))"
   ]
  },
  {
   "cell_type": "code",
   "execution_count": null,
   "id": "2fe2b363-5468-426b-a92c-1ec8361250fd",
   "metadata": {},
   "outputs": [],
   "source": []
  }
 ],
 "metadata": {
  "kernelspec": {
   "display_name": "Python 3 (ipykernel)",
   "language": "python",
   "name": "python3"
  },
  "language_info": {
   "codemirror_mode": {
    "name": "ipython",
    "version": 3
   },
   "file_extension": ".py",
   "mimetype": "text/x-python",
   "name": "python",
   "nbconvert_exporter": "python",
   "pygments_lexer": "ipython3",
   "version": "3.10.9"
  }
 },
 "nbformat": 4,
 "nbformat_minor": 5
}
